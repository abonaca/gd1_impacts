{
 "cells": [
  {
   "cell_type": "code",
   "execution_count": 2,
   "metadata": {},
   "outputs": [],
   "source": [
    "import numpy as np\n",
    "import matplotlib as mpl\n",
    "import matplotlib.pyplot as plt\n",
    "%matplotlib inline\n",
    "\n",
    "import astropy.coordinates as coord\n",
    "from astropy.table import Table, vstack\n",
    "from astropy.io import fits\n",
    "import astropy.units as u\n",
    "\n",
    "import gala.coordinates as gc\n",
    "\n",
    "import pickle\n",
    "\n",
    "coord.galactocentric_frame_defaults.set('v4.0');"
   ]
  },
  {
   "cell_type": "code",
   "execution_count": 3,
   "metadata": {},
   "outputs": [],
   "source": [
    "plt.style.use('notebook')"
   ]
  },
  {
   "cell_type": "code",
   "execution_count": 4,
   "metadata": {},
   "outputs": [],
   "source": [
    "fr = gc.GD1()"
   ]
  },
  {
   "cell_type": "code",
   "execution_count": 5,
   "metadata": {},
   "outputs": [],
   "source": [
    "corners0 = np.array([[-80, -10], [-80,5], [10,5], [10,-10]])"
   ]
  },
  {
   "cell_type": "code",
   "execution_count": 6,
   "metadata": {},
   "outputs": [
    {
     "name": "stdout",
     "output_type": "stream",
     "text": [
      "SELECT * FROM gaiaedr3.gaia_source\n",
      "WHERE parallax - 2*parallax_error < 0.5 AND\n",
      "      CONTAINS(POINT('ICRS', ra, dec), \n",
      "               POLYGON('ICRS', \n",
      "                       218.66034239121856, 50.18564516484523, \n",
      "                       220.8639874172285, 65.14151546244803, \n",
      "                       121.55418932787543, 4.764630672532538, \n",
      "                       134.58828370034513, -2.6790431755558206)) = 1\n",
      "\n"
     ]
    }
   ],
   "source": [
    "for corners in [corners0]:\n",
    "    c_corner = coord.SkyCoord(phi1=corners[:,0]*u.deg, phi2=corners[:,1]*u.deg, frame=fr)\n",
    "    ceq_corner = c_corner.transform_to(coord.ICRS)\n",
    "    q_base ='''SELECT * FROM gaiaedr3.gaia_source\n",
    "WHERE parallax - 2*parallax_error < 0.5 AND\n",
    "      CONTAINS(POINT('ICRS', ra, dec), \n",
    "               POLYGON('ICRS', \n",
    "                       {0.ra.degree}, {0.dec.degree}, \n",
    "                       {1.ra.degree}, {1.dec.degree}, \n",
    "                       {2.ra.degree}, {2.dec.degree}, \n",
    "                       {3.ra.degree}, {3.dec.degree})) = 1\n",
    "'''\n",
    "    print(q_base.format(ceq_corner[3], ceq_corner[2], ceq_corner[1], ceq_corner[0]))"
   ]
  },
  {
   "cell_type": "markdown",
   "metadata": {},
   "source": [
    "## Combine Gaia tables"
   ]
  },
  {
   "cell_type": "code",
   "execution_count": 10,
   "metadata": {},
   "outputs": [],
   "source": [
    "essential = ['bp_rp', 'phot_g_mean_mag', 'ra', 'dec', 'parallax', 'parallax_error',\n",
    "             'pmra', 'pmdec', 'dec_error', 'pmra_error', 'pmdec_error']\n",
    "tnames = ['gd1_{:d}.fits.gz'.format(x) for x in range(1,5)]"
   ]
  },
  {
   "cell_type": "code",
   "execution_count": 11,
   "metadata": {},
   "outputs": [],
   "source": [
    "for e, tname in enumerate(tnames):\n",
    "    t_ = Table(fits.getdata('/home/ana/projects/legacy/elz_reader/data/gaia/{:s}'.format(tname)))\n",
    "    t_.keep_columns(essential)\n",
    "    \n",
    "    if e==0:\n",
    "        tout = t_\n",
    "    else:\n",
    "        tout = vstack([tout, t_])"
   ]
  },
  {
   "cell_type": "markdown",
   "metadata": {},
   "source": [
    "### Deredden"
   ]
  },
  {
   "cell_type": "code",
   "execution_count": 13,
   "metadata": {},
   "outputs": [],
   "source": [
    "from dustmaps.sfd import SFDQuery\n",
    "def deredden(t):\n",
    "    # load SFD reader\n",
    "    sfd = SFDQuery()\n",
    "    \n",
    "    # Gaia extinction coefficients from Babusiaux+2018\n",
    "    kg = np.array([0.9761, -0.1704, 0.0086, 0.0011, -0.0438, 0.0013, 0.0099])\n",
    "    kbp = np.array([1.1517, -0.0871, -0.0333, 0.0173, -0.0230, 0.0006, 0.0043])\n",
    "    krp = np.array([0.6104, -0.0170, -0.0026, -0.0017, -0.0078, 0.00005, 0.0006])\n",
    "    \n",
    "    # query dust map\n",
    "    c = coord.SkyCoord(ra=t['ra']*u.deg, dec=t['dec']*u.deg, frame='icrs')\n",
    "    ebv = sfd(c)\n",
    "    a0 = 3.1*ebv\n",
    "    \n",
    "    # \n",
    "    N = len(t)\n",
    "    p = np.zeros((4,N))\n",
    "    bp_rp = np.zeros(N)\n",
    "    \n",
    "    p[0] = a0 * (krp[3] - kbp[3])\n",
    "    p[1] = a0 * (krp[2] - kbp[2])\n",
    "    p[2] = a0 * (krp[1] - kbp[1]) + a0**2 * (krp[6] - kbp[6]) - 1\n",
    "    p[3] = a0 * (krp[0] - kbp[0]) + a0**2 * (krp[4] - kbp[4]) + a0**3 * (krp[5] - kbp[5]) + t['bp_rp']\n",
    "    \n",
    "    for i in range(N):\n",
    "        r = np.roots(p[:,i])\n",
    "        ind = np.argmin(np.abs(r - t['bp_rp'][i]))\n",
    "        bp_rp[i] = r[ind]\n",
    "    \n",
    "    ag = (kg[0] + kg[1]*bp_rp + kg[2]*bp_rp**2 + kg[3]*bp_rp**3 + kg[4]*a0 + kg[5]*a0**2 + kg[6]*bp_rp*a0) * a0\n",
    "    g = t['phot_g_mean_mag'] - ag\n",
    "    \n",
    "    t['bp_rp0'] = bp_rp\n",
    "    t['g0'] = g"
   ]
  },
  {
   "cell_type": "code",
   "execution_count": 14,
   "metadata": {},
   "outputs": [
    {
     "name": "stdout",
     "output_type": "stream",
     "text": [
      "3119112\n"
     ]
    }
   ],
   "source": [
    "ind = np.isfinite(tout['bp_rp']) & np.isfinite(tout['phot_g_mean_mag'])\n",
    "tout = tout[ind]\n",
    "print(len(tout))"
   ]
  },
  {
   "cell_type": "code",
   "execution_count": 15,
   "metadata": {},
   "outputs": [
    {
     "name": "stderr",
     "output_type": "stream",
     "text": [
      "/usr/lib/python3.6/site-packages/ipykernel_launcher.py:29: ComplexWarning: Casting complex values to real discards the imaginary part\n"
     ]
    }
   ],
   "source": [
    "deredden(tout)"
   ]
  },
  {
   "cell_type": "code",
   "execution_count": 16,
   "metadata": {},
   "outputs": [],
   "source": [
    "tout.write('../data/gd1.fits.gz', overwrite=True)"
   ]
  },
  {
   "cell_type": "markdown",
   "metadata": {},
   "source": [
    "### Distant, retrograde selection"
   ]
  },
  {
   "cell_type": "code",
   "execution_count": 19,
   "metadata": {},
   "outputs": [],
   "source": [
    "ind_far = (tout['parallax'] - 2*tout['parallax_error']<0.5)\n",
    "ind_retro = (tout['pmra']<0) & (tout['pmdec']<0)"
   ]
  },
  {
   "cell_type": "code",
   "execution_count": 20,
   "metadata": {},
   "outputs": [
    {
     "data": {
      "text/plain": [
       "(2728358, 1730395, 1530791)"
      ]
     },
     "execution_count": 20,
     "metadata": {},
     "output_type": "execute_result"
    }
   ],
   "source": [
    "np.sum(ind_far), np.sum(ind_retro), np.sum(ind_far & ind_retro)"
   ]
  },
  {
   "cell_type": "code",
   "execution_count": 21,
   "metadata": {},
   "outputs": [],
   "source": [
    "ind = ind_far & ind_retro"
   ]
  },
  {
   "cell_type": "code",
   "execution_count": 22,
   "metadata": {},
   "outputs": [],
   "source": [
    "tout2 = tout[ind]"
   ]
  },
  {
   "cell_type": "code",
   "execution_count": 23,
   "metadata": {},
   "outputs": [],
   "source": [
    "tout2.write('../data/gd1_retro.fits.gz', overwrite=True)"
   ]
  },
  {
   "cell_type": "code",
   "execution_count": null,
   "metadata": {},
   "outputs": [],
   "source": []
  }
 ],
 "metadata": {
  "kernelspec": {
   "display_name": "Python 3",
   "language": "python",
   "name": "python3"
  },
  "language_info": {
   "codemirror_mode": {
    "name": "ipython",
    "version": 3
   },
   "file_extension": ".py",
   "mimetype": "text/x-python",
   "name": "python",
   "nbconvert_exporter": "python",
   "pygments_lexer": "ipython3",
   "version": "3.6.12"
  }
 },
 "nbformat": 4,
 "nbformat_minor": 2
}
